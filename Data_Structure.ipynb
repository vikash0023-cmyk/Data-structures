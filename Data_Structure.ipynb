{
  "nbformat": 4,
  "nbformat_minor": 0,
  "metadata": {
    "colab": {
      "provenance": []
    },
    "kernelspec": {
      "name": "python3",
      "display_name": "Python 3"
    },
    "language_info": {
      "name": "python"
    }
  },
  "cells": [
    {
      "cell_type": "markdown",
      "source": [
        "1. What are data structures, and why are they important?\n",
        "- Data structures are a way of organizing and storing data in a computer so that it can be used efficiently. They are fundamental to computer science because they allow for the effective management, access, and manipulation of data, leading to optimized code and improved performance in various applications."
      ],
      "metadata": {
        "id": "TFSJuoo8MoQW"
      }
    },
    {
      "cell_type": "markdown",
      "source": [
        "2. Explain the difference between mutable   \n",
        "and immutable data types with examples.\n",
        ". Mutable and immutable data types differ in whether their values can be changed after they are created.\n",
        "These are data types whose values can be modified inplace after they are initialized.\n",
        "When a mutable object is modified, its\n",
        "identity (memory address) generally remains the same.\n",
        "\n",
        "   #. my_list = [1, 2, 3]\n",
        "    print(f\"Original list: {my_list}, ID: {id(my_list)}\")\n",
        "    my_list.append(4)\n",
        "    print(f\"Modified list: {my_list}, ID: {id(my_list)}\")"
      ],
      "metadata": {
        "id": "oUSfnE9MN4Kx"
      }
    },
    {
      "cell_type": "markdown",
      "source": [
        "3. What are the main differences between    \n",
        "lists and tuples in Python?\n",
        "-  The main differences between lists and tuples in Python are centered around their mutability, performance characteristics, and typical use cases."
      ],
      "metadata": {
        "id": "Cbqmemh6PWL1"
      }
    },
    {
      "cell_type": "markdown",
      "source": [
        "4. Describe how dictionaries store data.\n",
        "- Dictionaries, also known as associative arrays or hash maps in other programming languages, store data as a collection of key-value pairs. This fundamental structure allows for efficient retrieval of values by associating them with unique, immutable keys"
      ],
      "metadata": {
        "id": "z6_2LU26Rc_S"
      }
    },
    {
      "cell_type": "markdown",
      "source": [
        "5. Why might you use a set instead of a list in Python?\n",
        "- Ordered, elements are indexed and can be accessed via their index while Unordered, elements do not have a specific position."
      ],
      "metadata": {
        "id": "qStsUXY0SRi7"
      }
    },
    {
      "cell_type": "markdown",
      "source": [
        "6. What is a string in Python, and how is it different from a list?\n",
        "- string in Python is an ordered sequence of characters, used to represent text. Strings are immutable, meaning that once a string is created, its characters cannot be changed. They are enclosed in either single quotes ('...') or double quotes (\"...\").\n",
        "                  Strings and lists are both ordered sequences in programming, but they differ primarily in their mutability and the types of elements they can contain:"
      ],
      "metadata": {
        "id": "N7aolrhabTEm"
      }
    },
    {
      "cell_type": "markdown",
      "source": [
        "7. How do tuples ensure data integrity in Python?\n",
        "- Tuples in Python ensure data integrity primarily through their immutability. This characteristic means that once a tuple is created, its elements cannot be changed, added, or removed. This provides a strong guarantee against accidental or unintended modifications, thereby preserving the integrity of the data they hold."
      ],
      "metadata": {
        "id": "JkuCO7YEcFV5"
      }
    },
    {
      "cell_type": "markdown",
      "source": [
        "8. What is a hash table, and how does it relate to dictionaries in Python?\n",
        "- A hash table is a data structure that implements an associative array, also known as a dictionary or map. It stores data in key-value pairs, where each key is unique and maps to a specific value. The core of a hash table's efficiency lies in its use of a hash function. This function takes a key as input and computes an index (or hash code) within an underlying array, where the corresponding value is stored. This allows for fast retrieval, insertion, and deletion of data, often achieving an average time complexity of O(1) (constant time).\n",
        "\n",
        "       Python's built-in dict data type is an implementation of a hash table. When a dictionary is created in Python, it internally uses a hash table to store its key-value pairs."
      ],
      "metadata": {
        "id": "B0IXM94CcWjh"
      }
    },
    {
      "cell_type": "markdown",
      "source": [],
      "metadata": {
        "id": "UAl1uopiS102"
      }
    },
    {
      "cell_type": "markdown",
      "source": [
        "9. Can lists contain different data types in  Python?\n",
        "- Yes, Python lists can contain elements of different data types. This is a key feature that makes Python lists very flexible and versatile."
      ],
      "metadata": {
        "id": "d4hF8_SmeLi1"
      }
    },
    {
      "cell_type": "markdown",
      "source": [
        "10. Explain why strings are immutable in\n",
        "Python.\n",
        "- Strings in Python are \"immutable\" which means they can not be changed after they are created. Some other immutable data types are integers, float, boolean, etc.\n",
        "                            The immutability of Python string is very useful as it helps in hashing, performance optimization, safety, ease of use, etc"
      ],
      "metadata": {
        "id": "Kp53kdqCeshm"
      }
    },
    {
      "cell_type": "markdown",
      "source": [
        "11. What advantages do dictionaries offer\n",
        "over lists for certain tasks?\n",
        "- Dictionaries are ideal for tasks requiring quick lookups, data mappings, and key-value associations. Lists are suitable for ordered collections, sequential processing, and scenarios where the order of elements matters."
      ],
      "metadata": {
        "id": "2dWz_dfRfZAL"
      }
    },
    {
      "cell_type": "markdown",
      "source": [
        "12. Describe a scenario where using a tuple would be preferable over a list.\n",
        "- Tuple is preferred because of\n",
        "Immutable Product Data: Product details (ID, name, price, in-stock status) are typically fixed once defined and shouldn't change accidentally during program execution. A tuple's immutability ensures data integrity, meaning its values cannot be altered, added, or removed after creation.\n",
        "Fixed-Length Records: Each product record will always have the same number of fields. Tuples are well-suited for representing fixed-length records where the number of items and their order are crucial.\n",
        "Performance Optimization: Tuples are generally more memory-efficient and can offer performance advantages, especially when dealing with large datasets or in scenarios where iteration speed is important, because they are stored in a single, fixed-size memory block and don't require additional space for potential modifications."
      ],
      "metadata": {
        "id": "pIthDnLZfxfo"
      }
    },
    {
      "cell_type": "markdown",
      "source": [
        "13. How do sets handle duplicate values in Python?\n",
        "- Python sets are inherently designed to store only unique elements. This means that when you add elements to a set, any duplicate values are automatically ignored and not stored.\n",
        "\n",
        "Automatic Removal:\n",
        "If you attempt to add an element that already exists in the set, the set will simply disregard the new addition. It does not raise an error or store multiple copies of the same value.\n",
        "Initialization:\n",
        "When you create a set from an iterable (like a list or tuple) that contains duplicate values, the set will only include the unique elements from that iterable"
      ],
      "metadata": {
        "id": "MMY6Qxq9ggPf"
      }
    },
    {
      "cell_type": "markdown",
      "source": [
        "14. How does the \"in\" keyword work\n",
        "differently for lists and dictionaries?\n",
        "-The in keyword in Python functions differently when used with lists compared to\n",
        "dictionaries due to their underlying data structures and how membership is defined.\n",
        "For Lists:\n",
        "The in keyword checks for the presence of a specific element within the list.\n",
        "It performs a linear search, iterating\n",
        "through each element of the list until a match is found or the end of the list is reached.\n",
        "The time complexity for this operation is\n",
        "O(n) in the worst case, where 'n' is the\n",
        "number of elements in the list, as it may need to examine every element."
      ],
      "metadata": {
        "id": "CRS4vOlEhG32"
      }
    },
    {
      "cell_type": "markdown",
      "source": [
        "15. Can you modify the elements of a tuple? Explain why or why not.\n",
        "-The elements of a tuple cannot be modified directly in Python. This is because tuples are immutable data structures.\n",
        "Explanation:\n",
        "Immutability:\n",
        "Once a tuple is created, its contents are fixed. You cannot change, add, or remove individual elements within the existing tuple. Attempting to do so will result in a Type error."
      ],
      "metadata": {
        "id": "kmXl7B28hvtB"
      }
    },
    {
      "cell_type": "markdown",
      "source": [
        "16. What is a nested dictionary, and give an example of its use case?\n",
        "- A nested dictionary is a dictionary that contains other dictionaries as values. This structure allows for the representation of hierarchical or complex data, where information can be organized in multiple layers.\n",
        "Example Use Case: Storing Employee Records\n",
        "A common use case for nested dictionaries is to store and manage structured data like employee records within an organization.\n",
        "\n",
        "#employee_records = {\n",
        "'Epe1':{'name':'John Doe','department':'Engineering','salary': 75000},\n",
        "'E0e2':{'name':'Jane Smith','department':'Marketing','salary': 65000},\n",
        "E003':{'name':\n",
        "'David Lee',\n",
        "'department':'Finance','salary': 80000}"
      ],
      "metadata": {
        "id": "H5EB3HCjiQ8f"
      }
    },
    {
      "cell_type": "markdown",
      "source": [
        "17. Describe the time complexity of\n",
        "accessing elements in a dictionary.\n",
        "- The time complexity of retrieving a value by its key in a dictionary is O(1). This is because dictionaries use a hash table internally which allows constant time lookup.\n",
        "\n",
        "Example:\n",
        "\n",
        "dict = {'a': 1, 'b': 2, 'c': 3}\n",
        "\n",
        "\n",
        "val = dict['b']\n",
        "print(val)\n",
        "Why O(1)? Hash tables use the hash of the key to find the memory location which enables direct access.\n",
        "\n",
        "Let's explore the time complexities of other dictionary operations:"
      ],
      "metadata": {
        "id": "zrv7M5J2jDyp"
      }
    },
    {
      "cell_type": "markdown",
      "source": [
        "\n",
        "18. In what situations are lists preferred over dictionaries?  \n",
        "-If we need an ordered collection, like a sequence of user actions, lists are your go-to. On the other hand, when you need quick\n",
        "lookups, like mapping usernames to user data, dictionaries are invaluable."
      ],
      "metadata": {
        "id": "MQuLAwS71YSO"
      }
    },
    {
      "cell_type": "markdown",
      "source": [
        "19. Why are dictionaries considered\n",
        "unordered, and how does that affect data retrieval?\n",
        "- Dictionaries are considered unordered because they don't guarantee that the order in which items are inserted will be the same order in which they are retrieved. This lack of inherent order primarily affects data retrieval when you need to access elements in a specific sequence, which is not the primary purpose of a dictionary."
      ],
      "metadata": {
        "id": "xOVmxctH2vAk"
      }
    },
    {
      "cell_type": "markdown",
      "source": [
        "20. Explain the difference between a list an a dictionary in terms of data retrieval.\n",
        "- The fundamental difference between a list and a dictionary, in terms of data retrieval, lies in their indexing mechanisms.\n",
        "Lists:\n",
        "Indexed by position:\n",
        "Lists are ordered collections, and their elements are accessed using zero-based integer indices. This means you retrieve an element by its numerical position within the list (e.g., the first element is at index 0, the second at index 1, and so on).\n",
        "Sequential access:\n",
        "Retrieval often involves knowing the exact position of the desired element or iterating through the list until the element is found.\n",
        "Dictionaries:\n",
        "Indexed by keys:\n",
        "Dictionaries are unordered collections that store data as key-value pairs. Data retrieval is performed by providing a unique \"key\" that maps to a specific \"value.\"\n",
        "Direct access:\n",
        "Retrieval is direct and efficient as it involves a hash-based lookup using the key, rather than relying on sequential position. This makes dictionaries highly suitable for quick data lookups when you have a specific identifier (the key) for the data you want to retrieve."
      ],
      "metadata": {
        "id": "BOOLr_C52-c-"
      }
    },
    {
      "cell_type": "code",
      "source": [
        "#1.\n",
        "'''name = \"Vikash\"\n",
        "print(name)'''"
      ],
      "metadata": {
        "colab": {
          "base_uri": "https://localhost:8080/",
          "height": 35
        },
        "id": "QULaLxvM3vpp",
        "outputId": "c9239b13-b738-4bfe-deb8-00d074877acd"
      },
      "execution_count": null,
      "outputs": [
        {
          "output_type": "execute_result",
          "data": {
            "text/plain": [
              "'name = \"Vikash\"\\nprint(name)'"
            ],
            "application/vnd.google.colaboratory.intrinsic+json": {
              "type": "string"
            }
          },
          "metadata": {},
          "execution_count": 1
        }
      ]
    },
    {
      "cell_type": "code",
      "source": [
        "#2.\n",
        "''' str = \"Hello\" \"world\"\n",
        "len(str)'''"
      ],
      "metadata": {
        "colab": {
          "base_uri": "https://localhost:8080/",
          "height": 35
        },
        "id": "YIwwpTo44RMK",
        "outputId": "5db610f2-41eb-4add-b65f-cc7563e24bd8"
      },
      "execution_count": null,
      "outputs": [
        {
          "output_type": "execute_result",
          "data": {
            "text/plain": [
              "' str = \"Hello\" \"world\"\\nlen(str)'"
            ],
            "application/vnd.google.colaboratory.intrinsic+json": {
              "type": "string"
            }
          },
          "metadata": {},
          "execution_count": 2
        }
      ]
    },
    {
      "cell_type": "code",
      "source": [
        "#3.\n",
        "'''original_string = \"python programming\"\n",
        "sliced_string = original_string[0:3]\n",
        "print(sliced_string)'''"
      ],
      "metadata": {
        "colab": {
          "base_uri": "https://localhost:8080/",
          "height": 70
        },
        "id": "AW7Ld4wE45Za",
        "outputId": "baf71c59-4924-43cf-df3d-bdd9962ec025"
      },
      "execution_count": null,
      "outputs": [
        {
          "output_type": "execute_result",
          "data": {
            "text/plain": [
              "'original_string = \"python programming\"\\nsliced_string = original_string[0:3]\\nprint(sliced_string)'"
            ],
            "application/vnd.google.colaboratory.intrinsic+json": {
              "type": "string"
            }
          },
          "metadata": {},
          "execution_count": 3
        }
      ]
    },
    {
      "cell_type": "code",
      "source": [
        "#4.\n",
        "'''original_string = \"hello\"\n",
        "uppercase_string = original_string.upper()\n",
        "print(uppercase_string)'''"
      ],
      "metadata": {
        "colab": {
          "base_uri": "https://localhost:8080/",
          "height": 70
        },
        "id": "yglnPhmp8_PB",
        "outputId": "f4b56b3a-1674-429d-c204-ad6defe03256"
      },
      "execution_count": null,
      "outputs": [
        {
          "output_type": "execute_result",
          "data": {
            "text/plain": [
              "'original_string = \"hello\"\\nuppercase_string = original_string.upper()\\nprint(uppercase_string)'"
            ],
            "application/vnd.google.colaboratory.intrinsic+json": {
              "type": "string"
            }
          },
          "metadata": {},
          "execution_count": 2
        }
      ]
    },
    {
      "cell_type": "code",
      "source": [
        "#5.\n",
        "'''original_string = \"I like apple\"\n",
        "new_string = original_string.replace(\"apple\", \"orange\")\n",
        "print(new_string)'''"
      ],
      "metadata": {
        "colab": {
          "base_uri": "https://localhost:8080/",
          "height": 87
        },
        "id": "SOfbyjIa8VTA",
        "outputId": "3194e1fb-eb10-41dd-daa0-fdf7ba6f304b"
      },
      "execution_count": null,
      "outputs": [
        {
          "output_type": "execute_result",
          "data": {
            "text/plain": [
              "'original_string = \"I like apple\"\\nnew_string = original_string.replace(\"apple\", \"orange\")\\nprint(new_string)'"
            ],
            "application/vnd.google.colaboratory.intrinsic+json": {
              "type": "string"
            }
          },
          "metadata": {},
          "execution_count": 1
        }
      ]
    },
    {
      "cell_type": "code",
      "source": [
        "#6.\n",
        "'''a list with numbers 1 to 5\n",
        "my_list = [1, 2, 3, 4, 5]\n",
        "print(my_list)'''"
      ],
      "metadata": {
        "colab": {
          "base_uri": "https://localhost:8080/",
          "height": 53
        },
        "id": "TyKUM8HO9cVw",
        "outputId": "c3ccc41d-d5e0-4c3c-a00c-f09bacf631bb"
      },
      "execution_count": null,
      "outputs": [
        {
          "output_type": "execute_result",
          "data": {
            "text/plain": [
              "'a list with numbers 1 to 5\\nmy_list = [1, 2, 3, 4, 5]\\nprint(my_list)'"
            ],
            "application/vnd.google.colaboratory.intrinsic+json": {
              "type": "string"
            }
          },
          "metadata": {},
          "execution_count": 3
        }
      ]
    },
    {
      "cell_type": "code",
      "source": [
        "#7.\n",
        "'''my_list = [1, 2, 3, 4]\n",
        "my_list.append(10)\n",
        "print(my_list)'''"
      ],
      "metadata": {
        "colab": {
          "base_uri": "https://localhost:8080/",
          "height": 53
        },
        "id": "VNIbwS98-FYK",
        "outputId": "12787303-1349-419a-b4be-4e34c1e2a518"
      },
      "execution_count": null,
      "outputs": [
        {
          "output_type": "execute_result",
          "data": {
            "text/plain": [
              "'my_list = [1, 2, 3, 4]\\nmy_list.append(10)\\nprint(my_list)'"
            ],
            "application/vnd.google.colaboratory.intrinsic+json": {
              "type": "string"
            }
          },
          "metadata": {},
          "execution_count": 4
        }
      ]
    },
    {
      "cell_type": "code",
      "source": [
        "#8.\n",
        "'''list = [1,2,3,4,5]\n",
        "list.remove(3)\n",
        "list'''\n"
      ],
      "metadata": {
        "id": "_CYLrIS5-WtK",
        "colab": {
          "base_uri": "https://localhost:8080/",
          "height": 36
        },
        "outputId": "e7d64d39-91cc-4cfa-d08c-35dc4c3ef0f4"
      },
      "execution_count": null,
      "outputs": [
        {
          "output_type": "execute_result",
          "data": {
            "text/plain": [
              "'list = [1,2,3,4,5]\\nlist.remove(3)\\nlist'"
            ],
            "application/vnd.google.colaboratory.intrinsic+json": {
              "type": "string"
            }
          },
          "metadata": {},
          "execution_count": 3
        }
      ]
    },
    {
      "cell_type": "code",
      "source": [
        "#9.\n",
        "'''list = ['a','b','c','d']\n",
        "list[1]'''"
      ],
      "metadata": {
        "colab": {
          "base_uri": "https://localhost:8080/",
          "height": 36
        },
        "id": "O4S5U9CjNobS",
        "outputId": "48269a11-505d-4163-c3bc-48367ee0a752"
      },
      "execution_count": null,
      "outputs": [
        {
          "output_type": "execute_result",
          "data": {
            "text/plain": [
              "\"list = ['a','b','c','d']\\nlist[1]\""
            ],
            "application/vnd.google.colaboratory.intrinsic+json": {
              "type": "string"
            }
          },
          "metadata": {},
          "execution_count": 7
        }
      ]
    },
    {
      "cell_type": "code",
      "source": [
        "#10.\n",
        "'''list = [10,20,30,40,50]\n",
        "   list.reversea()\n",
        "   list'''"
      ],
      "metadata": {
        "colab": {
          "base_uri": "https://localhost:8080/",
          "height": 36
        },
        "id": "pWhAu3LrPWKR",
        "outputId": "34abe77e-6d91-4991-e7b6-e67e0c92dde5"
      },
      "execution_count": null,
      "outputs": [
        {
          "output_type": "execute_result",
          "data": {
            "text/plain": [
              "'list = [10,20,30,40,50]\\n   list.reversea()\\n   list'"
            ],
            "application/vnd.google.colaboratory.intrinsic+json": {
              "type": "string"
            }
          },
          "metadata": {},
          "execution_count": 9
        }
      ]
    },
    {
      "cell_type": "code",
      "source": [
        "#11.\n",
        "'''my_tuple = (100, 200, 300)\n",
        "print(my_tuple)'''"
      ],
      "metadata": {
        "colab": {
          "base_uri": "https://localhost:8080/",
          "height": 53
        },
        "id": "YDaMQbFPhKkv",
        "outputId": "34dd8f88-be64-46cc-968a-3dcb55b2fce0"
      },
      "execution_count": null,
      "outputs": [
        {
          "output_type": "execute_result",
          "data": {
            "text/plain": [
              "'my_tuple = (100, 200, 300)\\nprint(my_tuple)'"
            ],
            "application/vnd.google.colaboratory.intrinsic+json": {
              "type": "string"
            }
          },
          "metadata": {},
          "execution_count": 1
        }
      ]
    },
    {
      "cell_type": "code",
      "source": [
        "#12.\n",
        "'''tuple = ('red', 'green', 'blue', 'yellow')\n",
        " tuple[-2]\n",
        "print(tuple[-2]'''"
      ],
      "metadata": {
        "colab": {
          "base_uri": "https://localhost:8080/",
          "height": 70
        },
        "id": "yecVsYcKhT5P",
        "outputId": "996faa0e-0df0-4025-e4a7-52bccb7fcb7a"
      },
      "execution_count": null,
      "outputs": [
        {
          "output_type": "execute_result",
          "data": {
            "text/plain": [
              "\"tuple = ('red', 'green', 'blue', 'yellow')\\n tuple[-2]\\nprint(tuple[-2]\""
            ],
            "application/vnd.google.colaboratory.intrinsic+json": {
              "type": "string"
            }
          },
          "metadata": {},
          "execution_count": 2
        }
      ]
    },
    {
      "cell_type": "code",
      "source": [
        "#13.\n",
        "'''tuple = (10, 20, 5, 15)\n",
        "minimum_number = min(tuple)\n",
        "print(minimum_number)'''"
      ],
      "metadata": {
        "id": "UHVheYwaiWb7",
        "colab": {
          "base_uri": "https://localhost:8080/",
          "height": 70
        },
        "outputId": "0786fd70-90f5-43fc-adb4-7c9c27e56f60"
      },
      "execution_count": null,
      "outputs": [
        {
          "output_type": "execute_result",
          "data": {
            "text/plain": [
              "'tuple = (10, 20, 5, 15)\\nminimum_number = min(tuple)\\nprint(minimum_number)'"
            ],
            "application/vnd.google.colaboratory.intrinsic+json": {
              "type": "string"
            }
          },
          "metadata": {},
          "execution_count": 1
        }
      ]
    },
    {
      "cell_type": "code",
      "source": [
        "#14.\n",
        "'''tuple = ('dog', 'cat', 'rabbit')\n",
        "index_of_cat = tuple.index('cat')\n",
        "print(index_of_cat)'''"
      ],
      "metadata": {
        "colab": {
          "base_uri": "https://localhost:8080/",
          "height": 70
        },
        "id": "MLcf3Pt-pz0T",
        "outputId": "b7ce31e6-39d8-431d-c6be-be1c0f9c5457"
      },
      "execution_count": null,
      "outputs": [
        {
          "output_type": "execute_result",
          "data": {
            "text/plain": [
              "\"tuple = ('dog', 'cat', 'rabbit')\\nindex_of_cat = tuple.index('cat')\\nprint(index_of_cat)\""
            ],
            "application/vnd.google.colaboratory.intrinsic+json": {
              "type": "string"
            }
          },
          "metadata": {},
          "execution_count": 2
        }
      ]
    },
    {
      "cell_type": "code",
      "source": [
        "#15.\n",
        "'''fruits = (\"apple\", \"banana\", \"orange\")\n",
        "if \"kiwi\" in fruits:\n",
        "  print(\"Kiwi is present in the tuple.\")\n",
        "else:\n",
        "  print(\"Kiwi is not present in the tuple.\")'''"
      ],
      "metadata": {
        "colab": {
          "base_uri": "https://localhost:8080/",
          "height": 105
        },
        "id": "4JrE5y1bqNAh",
        "outputId": "5cc4bd22-8c6f-4c90-d2d8-edf0b722a418"
      },
      "execution_count": null,
      "outputs": [
        {
          "output_type": "execute_result",
          "data": {
            "text/plain": [
              "'fruits = (\"apple\", \"banana\", \"orange\")\\nif \"kiwi\" in fruits:\\n  print(\"Kiwi is present in the tuple.\")\\nelse:\\n  print(\"Kiwi is not present in the tuple.\")'"
            ],
            "application/vnd.google.colaboratory.intrinsic+json": {
              "type": "string"
            }
          },
          "metadata": {},
          "execution_count": 3
        }
      ]
    },
    {
      "cell_type": "code",
      "source": [
        "#16.\n",
        "'''set = {'a', 'b', 'c'}\n",
        "   print(set)'''"
      ],
      "metadata": {
        "colab": {
          "base_uri": "https://localhost:8080/",
          "height": 53
        },
        "id": "SB457m7FqhnA",
        "outputId": "cc158413-5535-488a-bb96-8bcfc71fc36b"
      },
      "execution_count": null,
      "outputs": [
        {
          "output_type": "execute_result",
          "data": {
            "text/plain": [
              "\"set = {'a', 'b', 'c'}\\n   print(set)\""
            ],
            "application/vnd.google.colaboratory.intrinsic+json": {
              "type": "string"
            }
          },
          "metadata": {},
          "execution_count": 4
        }
      ]
    },
    {
      "cell_type": "code",
      "source": [
        "\n",
        "#17.\n",
        "'''set = {1, 2, 3, 4, 5}\n",
        "set.clear()\n",
        "print(set)'''"
      ],
      "metadata": {
        "colab": {
          "base_uri": "https://localhost:8080/",
          "height": 53
        },
        "id": "QOgvglrZq-DV",
        "outputId": "583ac0e8-1942-43a6-93be-255006c0c954"
      },
      "execution_count": null,
      "outputs": [
        {
          "output_type": "execute_result",
          "data": {
            "text/plain": [
              "'set = {1, 2, 3, 4, 5}\\nset.clear()\\nprint(set)'"
            ],
            "application/vnd.google.colaboratory.intrinsic+json": {
              "type": "string"
            }
          },
          "metadata": {},
          "execution_count": 7
        }
      ]
    },
    {
      "cell_type": "code",
      "source": [
        "#18.\n",
        "'''my_set = {1, 2, 3, 4}\n",
        "my_set.remove(4)\n",
        "print(my_set)'''"
      ],
      "metadata": {
        "colab": {
          "base_uri": "https://localhost:8080/",
          "height": 53
        },
        "id": "gR5RMF9Vridu",
        "outputId": "a4b77050-3bcb-4759-9a85-2f54489ec328"
      },
      "execution_count": null,
      "outputs": [
        {
          "output_type": "execute_result",
          "data": {
            "text/plain": [
              "'my_set = {1, 2, 3, 4}\\nmy_set.remove(4)\\nprint(my_set)'"
            ],
            "application/vnd.google.colaboratory.intrinsic+json": {
              "type": "string"
            }
          },
          "metadata": {},
          "execution_count": 8
        }
      ]
    },
    {
      "cell_type": "code",
      "source": [
        "\n",
        "#19.\n",
        "'''\n",
        "set1 = {1, 2, 3}\n",
        "set2 = {3, 4, 5}\n",
        "\n",
        "union_set_operator = set1 | set2\n",
        "print(\"Union using | operator:\", union_set_operator)'''"
      ],
      "metadata": {
        "colab": {
          "base_uri": "https://localhost:8080/",
          "height": 87
        },
        "id": "gqAJf3Mgr5-C",
        "outputId": "19834a38-08a8-4a22-be5e-73c4741e5656"
      },
      "execution_count": null,
      "outputs": [
        {
          "output_type": "execute_result",
          "data": {
            "text/plain": [
              "'\\nset1 = {1, 2, 3}\\nset2 = {3, 4, 5}\\n\\nunion_set_operator = set1 | set2\\nprint(\"Union using | operator:\", union_set_operator)'"
            ],
            "application/vnd.google.colaboratory.intrinsic+json": {
              "type": "string"
            }
          },
          "metadata": {},
          "execution_count": 11
        }
      ]
    },
    {
      "cell_type": "code",
      "source": [
        "#20.\n",
        "'''\n",
        "set1 = {1, 2, 3}\n",
        "set2 = {2, 3, 4}\n",
        "\n",
        "intersection_set = set1 & set2\n",
        "print(intersection_set)'''"
      ],
      "metadata": {
        "colab": {
          "base_uri": "https://localhost:8080/",
          "height": 70
        },
        "id": "D9mwOqKjs3tx",
        "outputId": "0bba7064-9cf1-4fc8-e20a-e3348da87fe5"
      },
      "execution_count": null,
      "outputs": [
        {
          "output_type": "execute_result",
          "data": {
            "text/plain": [
              "'\\nset1 = {1, 2, 3}\\nset2 = {2, 3, 4}\\n\\nintersection_set = set1 & set2\\nprint(intersection_set)'"
            ],
            "application/vnd.google.colaboratory.intrinsic+json": {
              "type": "string"
            }
          },
          "metadata": {},
          "execution_count": 14
        }
      ]
    },
    {
      "cell_type": "code",
      "source": [
        "#21.\n",
        "'''person = {\n",
        "    \"name\": \"Alice\",\n",
        "    \"age\": 30,\n",
        "    \"city\": \"New York\"\n",
        "}\n",
        "\n",
        "print(person)'''"
      ],
      "metadata": {
        "colab": {
          "base_uri": "https://localhost:8080/",
          "height": 70
        },
        "id": "ybgE8zSntRAP",
        "outputId": "c6e0a892-628e-4395-ace2-2ffd040c6832"
      },
      "execution_count": null,
      "outputs": [
        {
          "output_type": "execute_result",
          "data": {
            "text/plain": [
              "'person = {\\n    \"name\": \"Alice\",\\n    \"age\": 30,\\n    \"city\": \"New York\"\\n}\\n\\nprint(person)'"
            ],
            "application/vnd.google.colaboratory.intrinsic+json": {
              "type": "string"
            }
          },
          "metadata": {},
          "execution_count": 16
        }
      ]
    },
    {
      "cell_type": "code",
      "source": [
        "#22.\n",
        "'''\n",
        "dict = {'name': 'John', 'age': 25}\n",
        "dict['country'] = 'USA' # This adds the new key-value pair\n",
        "print(dict)'''"
      ],
      "metadata": {
        "id": "gyDaIL7_t-Gc",
        "outputId": "8d6bd9b7-9bca-4695-edc8-cbf751b96b55",
        "colab": {
          "base_uri": "https://localhost:8080/",
          "height": 87
        }
      },
      "execution_count": null,
      "outputs": [
        {
          "output_type": "execute_result",
          "data": {
            "text/plain": [
              "\"\\ndict = {'name': 'John', 'age': 25}\\ndict['country'] = 'USA' # This adds the new key-value pair\\nprint(dict)\""
            ],
            "application/vnd.google.colaboratory.intrinsic+json": {
              "type": "string"
            }
          },
          "metadata": {},
          "execution_count": 29
        }
      ]
    },
    {
      "cell_type": "code",
      "source": [
        "#23.\n",
        "'''\n",
        "dict = {'name': 'Alice', 'age': 30}\n",
        "name_value = dict['name']\n",
        "print(name_value)'''"
      ],
      "metadata": {
        "id": "wDxzA5yuuNS5",
        "outputId": "c2ee3aa0-afcb-44ef-95f8-3d31554794b1",
        "colab": {
          "base_uri": "https://localhost:8080/",
          "height": 70
        }
      },
      "execution_count": null,
      "outputs": [
        {
          "output_type": "execute_result",
          "data": {
            "text/plain": [
              "\"\\ndict = {'name': 'Alice', 'age': 30}\\nname_value = dict['name']\\nprint(name_value)\""
            ],
            "application/vnd.google.colaboratory.intrinsic+json": {
              "type": "string"
            }
          },
          "metadata": {},
          "execution_count": 28
        }
      ]
    },
    {
      "cell_type": "code",
      "source": [
        "#24.\n",
        "'''\n",
        "dict = {'name': 'Bob', 'age': 22, 'city': 'New York'}\n",
        "del dict['age']\n",
        "print(dict)'''"
      ],
      "metadata": {
        "id": "d5tA_K9uud_l",
        "outputId": "d786dce4-1425-4d29-f1ab-0b2c30ccdd8e",
        "colab": {
          "base_uri": "https://localhost:8080/",
          "height": 70
        }
      },
      "execution_count": null,
      "outputs": [
        {
          "output_type": "execute_result",
          "data": {
            "text/plain": [
              "\"\\ndict = {'name': 'Bob', 'age': 22, 'city': 'New York'}\\ndel dict['age']\\nprint(dict)\""
            ],
            "application/vnd.google.colaboratory.intrinsic+json": {
              "type": "string"
            }
          },
          "metadata": {},
          "execution_count": 27
        }
      ]
    },
    {
      "cell_type": "code",
      "source": [
        "#25.\n",
        "'''\n",
        "dict = {'name': 'Alice', 'city': 'Paris'}\n",
        "if \"city\" in my_dict:\n",
        "    print(\"The key 'city' exists in the dictionary.\")\n",
        "else:\n",
        "    print(\"The key 'city' does not exist in the dictionary.\")'''"
      ],
      "metadata": {
        "id": "mUAG9w8kuzzx",
        "outputId": "1165d900-38d7-468a-c8f9-1048891eefb1",
        "colab": {
          "base_uri": "https://localhost:8080/",
          "height": 122
        }
      },
      "execution_count": null,
      "outputs": [
        {
          "output_type": "execute_result",
          "data": {
            "text/plain": [
              "'\\ndict = {\\'name\\': \\'Alice\\', \\'city\\': \\'Paris\\'}\\nif \"city\" in my_dict:\\n    print(\"The key \\'city\\' exists in the dictionary.\")\\nelse:\\n    print(\"The key \\'city\\' does not exist in the dictionary.\")'"
            ],
            "application/vnd.google.colaboratory.intrinsic+json": {
              "type": "string"
            }
          },
          "metadata": {},
          "execution_count": 26
        }
      ]
    },
    {
      "cell_type": "code",
      "source": [
        "#26.\n",
        "'''\n",
        "list = [\"apple\", \"banana\", \"cherry\"]  # Lists are ordered and changeable.\n",
        "\n",
        "tuple = (1, 2, 3) # Tuples are ordered and unchangeable.\n",
        "\n",
        "dictionary = {\n",
        "    \"name\": \"Alice\",\n",
        "    \"age\": 30,\n",
        "    \"city\": \"New York\"}\n",
        "\n",
        "print(\"List:\", list)\n",
        "print(\"Tuple:\", tuple)\n",
        "print(\"Dictionary:\", dictionary)'''"
      ],
      "metadata": {
        "id": "XIbfXp7tvTNx",
        "outputId": "5992cc2a-1391-49f6-b1ae-0575e7a2e943",
        "colab": {
          "base_uri": "https://localhost:8080/",
          "height": 174
        }
      },
      "execution_count": null,
      "outputs": [
        {
          "output_type": "execute_result",
          "data": {
            "text/plain": [
              "'\\nlist = [\"apple\", \"banana\", \"cherry\"]  # Lists are ordered and changeable.\\n\\ntuple = (1, 2, 3) # Tuples are ordered and unchangeable.\\n\\ndictionary = {\\n    \"name\": \"Alice\", \\n    \"age\": 30, \\n    \"city\": \"New York\"}\\n\\nprint(\"List:\", list)\\nprint(\"Tuple:\", tuple)\\nprint(\"Dictionary:\", dictionary)'"
            ],
            "application/vnd.google.colaboratory.intrinsic+json": {
              "type": "string"
            }
          },
          "metadata": {},
          "execution_count": 25
        }
      ]
    },
    {
      "cell_type": "code",
      "source": [
        "#28.\n",
        "'''\n",
        "my_list = [\"apple\", \"banana\", \"cherry\", \"date\", \"grape\"]\n",
        "print(my_list[2])'''"
      ],
      "metadata": {
        "colab": {
          "base_uri": "https://localhost:8080/",
          "height": 70
        },
        "id": "KRqWjesMt13p",
        "outputId": "0ca0f8bc-7132-4ec5-d138-9c633a462013"
      },
      "execution_count": null,
      "outputs": [
        {
          "output_type": "execute_result",
          "data": {
            "text/plain": [
              "'\\nmy_list = [\"apple\", \"banana\", \"cherry\", \"date\", \"grape\"]\\nprint(my_list[2])'"
            ],
            "application/vnd.google.colaboratory.intrinsic+json": {
              "type": "string"
            }
          },
          "metadata": {},
          "execution_count": 1
        }
      ]
    },
    {
      "cell_type": "code",
      "source": [
        "#29.\n",
        "'''\n",
        "dict_one = {\"name\": \"Vikash\", \"age\": 23}\n",
        "dict_two = {\"city\": \"New York\", \"occupation\": \"Data Engineer\"}\n",
        "dict_one.update(dict_two)\n",
        "print(dict_one)'''"
      ],
      "metadata": {
        "colab": {
          "base_uri": "https://localhost:8080/",
          "height": 105
        },
        "id": "F737m6M7t7YU",
        "outputId": "d3c801e7-a2d9-48aa-9688-e28840ca67eb"
      },
      "execution_count": null,
      "outputs": [
        {
          "output_type": "execute_result",
          "data": {
            "text/plain": [
              "'\\ndict_one = {\"name\": \"Vikash\", \"age\": 23}\\ndict_two = {\"city\": \"New York\", \"occupation\": \"Data Engineer\"}\\ndict_one.update(dict_two)\\nprint(dict_one)'"
            ],
            "application/vnd.google.colaboratory.intrinsic+json": {
              "type": "string"
            }
          },
          "metadata": {},
          "execution_count": 3
        }
      ]
    },
    {
      "cell_type": "code",
      "source": [
        "#30.\n",
        "'''list_of_strings = [\"apple\", \"banana\", \"cherry\", \"apple\", \"date\"]\n",
        "set_of_strings = set(list_of_strings)\n",
        "print(set_of_strings)'''"
      ],
      "metadata": {
        "colab": {
          "base_uri": "https://localhost:8080/",
          "height": 87
        },
        "id": "NwlgmJzzubDo",
        "outputId": "d1f68794-b278-4453-e6f7-8f2be78cbe2c"
      },
      "execution_count": null,
      "outputs": [
        {
          "output_type": "execute_result",
          "data": {
            "text/plain": [
              "'list_of_strings = [\"apple\", \"banana\", \"cherry\", \"apple\", \"date\"]\\nset_of_strings = set(list_of_strings)\\nprint(set_of_strings)'"
            ],
            "application/vnd.google.colaboratory.intrinsic+json": {
              "type": "string"
            }
          },
          "metadata": {},
          "execution_count": 4
        }
      ]
    }
  ]
}